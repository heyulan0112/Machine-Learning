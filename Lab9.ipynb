{
 "cells": [
  {
   "cell_type": "code",
   "execution_count": 31,
   "metadata": {
    "id": "t9-LRbRUKfTJ"
   },
   "outputs": [],
   "source": [
    "import tensorflow as tf"
   ]
  },
  {
   "cell_type": "code",
   "execution_count": 32,
   "metadata": {
    "id": "o5lSl65UMxwD"
   },
   "outputs": [],
   "source": [
    "import numpy as np\n",
    "import matplotlib\n",
    "import matplotlib.pyplot as plt"
   ]
  },
  {
   "cell_type": "code",
   "execution_count": 33,
   "metadata": {
    "id": "C8KvYUVGM1_Y"
   },
   "outputs": [],
   "source": [
    "import librosa\n",
    "import librosa.display\n",
    "import librosa.feature"
   ]
  },
  {
   "cell_type": "code",
   "execution_count": 34,
   "metadata": {
    "colab": {
     "base_uri": "https://localhost:8080/"
    },
    "id": "LnzGz4ZPNP9P",
    "outputId": "d3b4f0bf-33fe-4a42-aea7-6fdddba7ee97"
   },
   "outputs": [
    {
     "name": "stdout",
     "output_type": "stream",
     "text": [
      "Files already downloaded\n"
     ]
    }
   ],
   "source": [
    "import requests\n",
    "import os\n",
    "from tqdm import tqdm\n",
    "\n",
    "fn = \"SopSax.Vib.pp.C6Eb6.aiff\"\n",
    "url = \"http://theremin.music.uiowa.edu/sound files/MIS/Woodwinds/sopranosaxophone/\"+fn\n",
    "\n",
    "# TODO 1:  Load the file from url and save it in a file under the name fn\n",
    "def download_file(src_url, dst_fn):\n",
    "    \n",
    "    if os.path.exists(dst_fn):\n",
    "        print('File %s already exists' % dst_fn)\n",
    "        return\n",
    "    \n",
    "    print('Downloading %s' % dst_fn)\n",
    "    \n",
    "    # Streaming, so we can iterate over the response.\n",
    "    r = requests.get(src_url, stream=True)\n",
    "\n",
    "    # Total size in MB.\n",
    "    total_size = int(r.headers.get('content-length', 0)); \n",
    "    block_size = 1024\n",
    "    wrote = 0 \n",
    "    with open(dst_fn, 'wb') as f:\n",
    "        with tqdm(total=total_size//block_size, unit='kB', \n",
    "                           unit_scale=True, unit_divisor=1024) as pbar:\n",
    "            for data in r.iter_content(block_size):\n",
    "                wrote = wrote + len(data)\n",
    "                pbar.update(1)\n",
    "                f.write(data)\n",
    "    if total_size != 0 and wrote != total_size:\n",
    "        print(\"ERROR, something went wrong\") \n",
    "\n",
    "if os.path.exists(fn):\n",
    "    print('Files already downloaded')\n",
    "    files_exists = True\n",
    "else:\n",
    "    files_exists = False\n",
    "if not files_exists:\n",
    "    # First download the zip file if needed\n",
    "    download_file(url, fn)\n"
   ]
  },
  {
   "cell_type": "code",
   "execution_count": 35,
   "metadata": {
    "id": "8zMfR47pVD_A"
   },
   "outputs": [],
   "source": [
    "# TODO 2\n",
    "import librosa\n",
    "y, sr = librosa.load(\"SopSax.Vib.pp.C6Eb6.aiff\")"
   ]
  },
  {
   "cell_type": "code",
   "execution_count": 36,
   "metadata": {
    "colab": {
     "base_uri": "https://localhost:8080/",
     "height": 297
    },
    "id": "RO1uaNWM7LV1",
    "outputId": "abeef4de-4bd6-4953-883a-24584e447c13"
   },
   "outputs": [
    {
     "data": {
      "image/png": "[encoded data removed]",
      "text/plain": [
       "<Figure size 432x288 with 2 Axes>"
      ]
     },
     "metadata": {
      "needs_background": "light"
     },
     "output_type": "display_data"
    }
   ],
   "source": [
    "S = librosa.feature.melspectrogram(y=y, sr=sr, n_mels=128, fmax=8000)\n",
    "librosa.display.specshow(librosa.amplitude_to_db(S),\n",
    "                         y_axis='mel', fmax=8000, x_axis='time')\n",
    "plt.colorbar(format='%+2.0f dB')\n",
    "plt.title('Mel spectrogram')\n",
    "plt.tight_layout()"
   ]
  },
  {
   "cell_type": "code",
   "execution_count": 37,
   "metadata": {
    "colab": {
     "base_uri": "https://localhost:8080/"
    },
    "id": "hOPNACV4C-d-",
    "outputId": "e87283ff-1e0d-4eda-c14b-e046ffb0ad8d"
   },
   "outputs": [
    {
     "name": "stdout",
     "output_type": "stream",
     "text": [
      "Drive already mounted at /content/drive; to attempt to forcibly remount, call drive.mount(\"/content/drive\", force_remount=True).\n"
     ]
    }
   ],
   "source": [
    "from google.colab import drive\n",
    "drive.mount('/content/drive')"
   ]
  },
  {
   "cell_type": "code",
   "execution_count": 38,
   "metadata": {
    "id": "oVnLF0Hr8PMN"
   },
   "outputs": [],
   "source": [
    "data_dir = '/content/drive/MyDrive/ColabNotebooks/instrument_dataset/'\n",
    "\n",
    "Xtr = np.load(data_dir+'uiowa_train_data.npy')\n",
    "ytr = np.load(data_dir+'uiowa_train_labels.npy')\n",
    "Xts = np.load(data_dir+'uiowa_test_data.npy')\n",
    "yts = np.load(data_dir+'uiowa_test_labels.npy')"
   ]
  },
  {
   "cell_type": "code",
   "execution_count": 39,
   "metadata": {
    "colab": {
     "base_uri": "https://localhost:8080/"
    },
    "id": "9WMaegwvJBf9",
    "outputId": "83b14919-45ba-4ef5-cbcf-27a333371e40"
   },
   "outputs": [
    {
     "name": "stdout",
     "output_type": "stream",
     "text": [
      "Number of trainng sample = 66247, number of testing sample = 14904\n",
      "Number of features = 120, Number of classes = 10\n"
     ]
    }
   ],
   "source": [
    "# TODO 3\n",
    "ntr = Xtr.shape[0]\n",
    "nts = Xts.shape[0]\n",
    "ncol = Xtr.shape[1]\n",
    "nclass = np.max(ytr)+1\n",
    "print(\"Number of trainng sample = {}, number of testing sample = {}\".format(ntr,nts))\n",
    "print(\"Number of features = {}, Number of classes = {}\".format(ncol,nclass))"
   ]
  },
  {
   "cell_type": "code",
   "execution_count": 40,
   "metadata": {
    "id": "ZnU05WAsJ7AW"
   },
   "outputs": [],
   "source": [
    "# TODO 4: Scale the training and test matrices\n",
    "xm = np.mean(Xtr,axis=0)\n",
    "xstd = np.std(Xtr,axis=0)\n",
    "Xtr_scale = (Xtr-xm[None,:])/xstd[None,:] \n",
    "Xts_scale = (Xts-xm[None,:])/xstd[None,:]"
   ]
  },
  {
   "cell_type": "code",
   "execution_count": 41,
   "metadata": {
    "id": "eDNHeqhmOwet"
   },
   "outputs": [],
   "source": [
    "from tensorflow.keras.models import Model, Sequential\n",
    "from tensorflow.keras.layers import Dense, Activation\n",
    "import tensorflow.keras.backend as K\n",
    "# TODO 5 clear session\n",
    "K.clear_session()"
   ]
  },
  {
   "cell_type": "code",
   "execution_count": 42,
   "metadata": {
    "id": "vRuNwkc5O2BT"
   },
   "outputs": [],
   "source": [
    "# TODO 6: construct the model\n",
    "nin = ncol\n",
    "nh = 256\n",
    "nout = np.max(ytr)+1\n",
    "model = Sequential()\n",
    "model.add(Dense(units=nh, input_shape=(nin,), activation='sigmoid', name='hidden'))\n",
    "model.add(Dense(units=nout, activation='softmax', name='output'))"
   ]
  },
  {
   "cell_type": "code",
   "execution_count": 43,
   "metadata": {
    "colab": {
     "base_uri": "https://localhost:8080/"
    },
    "id": "DpVPp2i7TWva",
    "outputId": "c41958a4-43d7-4369-dc67-56cb0d90676b"
   },
   "outputs": [
    {
     "name": "stdout",
     "output_type": "stream",
     "text": [
      "Model: \"sequential\"\n",
      "_________________________________________________________________\n",
      " Layer (type)                Output Shape              Param #   \n",
      "=================================================================\n",
      " hidden (Dense)              (None, 256)               30976     \n",
      "                                                                 \n",
      " output (Dense)              (None, 10)                2570      \n",
      "                                                                 \n",
      "=================================================================\n",
      "Total params: 33,546\n",
      "Trainable params: 33,546\n",
      "Non-trainable params: 0\n",
      "_________________________________________________________________\n"
     ]
    }
   ],
   "source": [
    "# TODO 7:  Print the model summary\n",
    "model.summary()"
   ]
  },
  {
   "cell_type": "code",
   "execution_count": 44,
   "metadata": {
    "colab": {
     "base_uri": "https://localhost:8080/"
    },
    "id": "Xy4bd9f8UguI",
    "outputId": "5f64c13d-44bb-4111-ad72-fcbcdd6e8b59"
   },
   "outputs": [
    {
     "name": "stderr",
     "output_type": "stream",
     "text": [
      "/usr/local/lib/python3.7/dist-packages/keras/optimizer_v2/adam.py:105: UserWarning: The `lr` argument is deprecated, use `learning_rate` instead.\n",
      "  super(Adam, self).__init__(name, **kwargs)\n"
     ]
    }
   ],
   "source": [
    "# TODO 8\n",
    "from tensorflow.keras import optimizers\n",
    "opt = optimizers.Adam(lr=0.001)\n",
    "model.compile(optimizer=opt,\n",
    "              loss='sparse_categorical_crossentropy',\n",
    "              metrics=['accuracy'])"
   ]
  },
  {
   "cell_type": "code",
   "execution_count": 45,
   "metadata": {
    "colab": {
     "base_uri": "https://localhost:8080/"
    },
    "id": "chb0jwhSWZ1a",
    "outputId": "48d6a441-90c8-4719-a395-592245e994f2"
   },
   "outputs": [
    {
     "name": "stdout",
     "output_type": "stream",
     "text": [
      "Epoch 1/10\n",
      "663/663 [==============================] - 2s 3ms/step - loss: 0.3592 - accuracy: 0.9039 - val_loss: 0.1836 - val_accuracy: 0.9503\n",
      "Epoch 2/10\n",
      "663/663 [==============================] - 2s 3ms/step - loss: 0.1017 - accuracy: 0.9754 - val_loss: 0.1088 - val_accuracy: 0.9655\n",
      "Epoch 3/10\n",
      "663/663 [==============================] - 2s 3ms/step - loss: 0.0601 - accuracy: 0.9853 - val_loss: 0.0659 - val_accuracy: 0.9824\n",
      "Epoch 4/10\n",
      "663/663 [==============================] - 2s 3ms/step - loss: 0.0422 - accuracy: 0.9893 - val_loss: 0.0541 - val_accuracy: 0.9851\n",
      "Epoch 5/10\n",
      "663/663 [==============================] - 2s 3ms/step - loss: 0.0322 - accuracy: 0.9919 - val_loss: 0.0375 - val_accuracy: 0.9907\n",
      "Epoch 6/10\n",
      "663/663 [==============================] - 2s 3ms/step - loss: 0.0255 - accuracy: 0.9933 - val_loss: 0.0332 - val_accuracy: 0.9899\n",
      "Epoch 7/10\n",
      "663/663 [==============================] - 2s 3ms/step - loss: 0.0209 - accuracy: 0.9946 - val_loss: 0.0343 - val_accuracy: 0.9901\n",
      "Epoch 8/10\n",
      "663/663 [==============================] - 2s 3ms/step - loss: 0.0176 - accuracy: 0.9952 - val_loss: 0.0287 - val_accuracy: 0.9920\n",
      "Epoch 9/10\n",
      "663/663 [==============================] - 2s 3ms/step - loss: 0.0149 - accuracy: 0.9961 - val_loss: 0.0248 - val_accuracy: 0.9917\n",
      "Epoch 10/10\n",
      "663/663 [==============================] - 2s 3ms/step - loss: 0.0131 - accuracy: 0.9965 - val_loss: 0.0249 - val_accuracy: 0.9909\n"
     ]
    }
   ],
   "source": [
    "# TODO 9\n",
    "hist = model.fit(Xtr_scale, ytr, epochs=10, batch_size=100, validation_data=(Xts_scale,yts))"
   ]
  },
  {
   "cell_type": "code",
   "execution_count": 49,
   "metadata": {
    "colab": {
     "base_uri": "https://localhost:8080/",
     "height": 297
    },
    "id": "q0bMG2cgcqYo",
    "outputId": "f424fffa-f4b1-4d12-c552-0477a336867e"
   },
   "outputs": [
    {
     "data": {
      "text/plain": [
       "Text(0, 0.5, 'Validation Accuracy')"
      ]
     },
     "execution_count": 49,
     "metadata": {},
     "output_type": "execute_result"
    },
    {
     "data": {
      "image/png": "[encoded data removed]",
      "text/plain": [
       "<Figure size 432x288 with 1 Axes>"
      ]
     },
     "metadata": {
      "needs_background": "light"
     },
     "output_type": "display_data"
    }
   ],
   "source": [
    "# TODO 10\n",
    "xp = np.arange(1,11)\n",
    "plt.plot(xp,hist.history['val_accuracy'],'o-', linewidth=2)\n",
    "plt.xlabel('Epoch')\n",
    "plt.ylabel('Validation Accuracy')"
   ]
  },
  {
   "cell_type": "code",
   "execution_count": 50,
   "metadata": {
    "colab": {
     "base_uri": "https://localhost:8080/",
     "height": 297
    },
    "id": "c-IO7nb0ijz-",
    "outputId": "5d87a1ff-3343-43c5-84a5-d2a3014aeab7"
   },
   "outputs": [
    {
     "data": {
      "text/plain": [
       "Text(0, 0.5, 'Loss')"
      ]
     },
     "execution_count": 50,
     "metadata": {},
     "output_type": "execute_result"
    },
    {
     "data": {
      "image/png": "[encoded data removed]",
      "text/plain": [
       "<Figure size 432x288 with 1 Axes>"
      ]
     },
     "metadata": {
      "needs_background": "light"
     },
     "output_type": "display_data"
    }
   ],
   "source": [
    "# TODO 11\n",
    "plt.semilogy(xp,hist.history['loss'],'o-', linewidth=2)\n",
    "plt.xlabel('Epoch')\n",
    "plt.ylabel('Loss')"
   ]
  },
  {
   "cell_type": "code",
   "execution_count": 52,
   "metadata": {
    "colab": {
     "base_uri": "https://localhost:8080/"
    },
    "id": "hZpHcNqDjOMj",
    "outputId": "896d50f1-d40d-469b-86aa-f50c6a08b0e2"
   },
   "outputs": [
    {
     "name": "stdout",
     "output_type": "stream",
     "text": [
      "Epoch 1/20\n"
     ]
    },
    {
     "name": "stderr",
     "output_type": "stream",
     "text": [
      "/usr/local/lib/python3.7/dist-packages/keras/optimizer_v2/adam.py:105: UserWarning: The `lr` argument is deprecated, use `learning_rate` instead.\n",
      "  super(Adam, self).__init__(name, **kwargs)\n"
     ]
    },
    {
     "name": "stdout",
     "output_type": "stream",
     "text": [
      "663/663 [==============================] - 2s 3ms/step - loss: 0.1076 - accuracy: 0.9665 - val_loss: 0.0650 - val_accuracy: 0.9769\n",
      "Epoch 2/20\n",
      "663/663 [==============================] - 2s 3ms/step - loss: 0.0292 - accuracy: 0.9901 - val_loss: 0.0380 - val_accuracy: 0.9852\n",
      "Epoch 3/20\n",
      "663/663 [==============================] - 2s 3ms/step - loss: 0.0209 - accuracy: 0.9928 - val_loss: 0.0716 - val_accuracy: 0.9742\n",
      "Epoch 4/20\n",
      "663/663 [==============================] - 2s 3ms/step - loss: 0.0193 - accuracy: 0.9935 - val_loss: 0.1079 - val_accuracy: 0.9660\n",
      "Epoch 5/20\n",
      "663/663 [==============================] - 2s 3ms/step - loss: 0.0173 - accuracy: 0.9942 - val_loss: 0.0306 - val_accuracy: 0.9893\n",
      "Epoch 6/20\n",
      "663/663 [==============================] - 2s 3ms/step - loss: 0.0143 - accuracy: 0.9956 - val_loss: 0.0507 - val_accuracy: 0.9826\n",
      "Epoch 7/20\n",
      "663/663 [==============================] - 2s 3ms/step - loss: 0.0148 - accuracy: 0.9952 - val_loss: 0.0369 - val_accuracy: 0.9872\n",
      "Epoch 8/20\n",
      "663/663 [==============================] - 2s 3ms/step - loss: 0.0135 - accuracy: 0.9958 - val_loss: 0.0480 - val_accuracy: 0.9854\n",
      "Epoch 9/20\n",
      "663/663 [==============================] - 2s 3ms/step - loss: 0.0139 - accuracy: 0.9956 - val_loss: 0.0642 - val_accuracy: 0.9832\n",
      "Epoch 10/20\n",
      "663/663 [==============================] - 2s 3ms/step - loss: 0.0102 - accuracy: 0.9970 - val_loss: 0.0600 - val_accuracy: 0.9843\n",
      "Epoch 11/20\n",
      "663/663 [==============================] - 2s 3ms/step - loss: 0.0128 - accuracy: 0.9960 - val_loss: 0.0876 - val_accuracy: 0.9799\n",
      "Epoch 12/20\n",
      "663/663 [==============================] - 2s 3ms/step - loss: 0.0098 - accuracy: 0.9971 - val_loss: 0.0610 - val_accuracy: 0.9867\n",
      "Epoch 13/20\n",
      "663/663 [==============================] - 2s 3ms/step - loss: 0.0125 - accuracy: 0.9966 - val_loss: 0.0510 - val_accuracy: 0.9860\n",
      "Epoch 14/20\n",
      "663/663 [==============================] - 2s 3ms/step - loss: 0.0072 - accuracy: 0.9976 - val_loss: 0.0639 - val_accuracy: 0.9859\n",
      "Epoch 15/20\n",
      "663/663 [==============================] - 2s 3ms/step - loss: 0.0109 - accuracy: 0.9965 - val_loss: 0.0411 - val_accuracy: 0.9894\n",
      "Epoch 16/20\n",
      "663/663 [==============================] - 2s 3ms/step - loss: 0.0087 - accuracy: 0.9973 - val_loss: 0.0804 - val_accuracy: 0.9826\n",
      "Epoch 17/20\n",
      "663/663 [==============================] - 2s 3ms/step - loss: 0.0071 - accuracy: 0.9977 - val_loss: 0.0288 - val_accuracy: 0.9922\n",
      "Epoch 18/20\n",
      "663/663 [==============================] - 2s 3ms/step - loss: 0.0110 - accuracy: 0.9971 - val_loss: 0.0433 - val_accuracy: 0.9898\n",
      "Epoch 19/20\n",
      "663/663 [==============================] - 2s 3ms/step - loss: 0.0078 - accuracy: 0.9977 - val_loss: 0.0488 - val_accuracy: 0.9872\n",
      "Epoch 20/20\n",
      "663/663 [==============================] - 2s 4ms/step - loss: 0.0090 - accuracy: 0.9974 - val_loss: 0.0470 - val_accuracy: 0.9884\n",
      "Epoch 1/20\n",
      "663/663 [==============================] - 3s 4ms/step - loss: 0.3607 - accuracy: 0.9020 - val_loss: 0.1832 - val_accuracy: 0.9496\n",
      "Epoch 2/20\n",
      "663/663 [==============================] - 3s 4ms/step - loss: 0.1021 - accuracy: 0.9753 - val_loss: 0.0947 - val_accuracy: 0.9787\n",
      "Epoch 3/20\n",
      "663/663 [==============================] - 2s 3ms/step - loss: 0.0603 - accuracy: 0.9851 - val_loss: 0.0639 - val_accuracy: 0.9827\n",
      "Epoch 4/20\n",
      "663/663 [==============================] - 4s 6ms/step - loss: 0.0424 - accuracy: 0.9895 - val_loss: 0.0560 - val_accuracy: 0.9830\n",
      "Epoch 5/20\n",
      "663/663 [==============================] - 2s 3ms/step - loss: 0.0322 - accuracy: 0.9918 - val_loss: 0.0391 - val_accuracy: 0.9886\n",
      "Epoch 6/20\n",
      "663/663 [==============================] - 2s 3ms/step - loss: 0.0254 - accuracy: 0.9932 - val_loss: 0.0327 - val_accuracy: 0.9921\n",
      "Epoch 7/20\n",
      "663/663 [==============================] - 2s 3ms/step - loss: 0.0208 - accuracy: 0.9945 - val_loss: 0.0293 - val_accuracy: 0.9921\n",
      "Epoch 8/20\n",
      "663/663 [==============================] - 2s 3ms/step - loss: 0.0177 - accuracy: 0.9955 - val_loss: 0.0279 - val_accuracy: 0.9916\n",
      "Epoch 9/20\n",
      "663/663 [==============================] - 2s 3ms/step - loss: 0.0149 - accuracy: 0.9962 - val_loss: 0.0234 - val_accuracy: 0.9930\n",
      "Epoch 10/20\n",
      "663/663 [==============================] - 2s 3ms/step - loss: 0.0131 - accuracy: 0.9964 - val_loss: 0.0236 - val_accuracy: 0.9926\n",
      "Epoch 11/20\n",
      "663/663 [==============================] - 2s 3ms/step - loss: 0.0114 - accuracy: 0.9971 - val_loss: 0.0204 - val_accuracy: 0.9936\n",
      "Epoch 12/20\n",
      "663/663 [==============================] - 2s 3ms/step - loss: 0.0101 - accuracy: 0.9974 - val_loss: 0.0225 - val_accuracy: 0.9928\n",
      "Epoch 13/20\n",
      "663/663 [==============================] - 2s 3ms/step - loss: 0.0094 - accuracy: 0.9975 - val_loss: 0.0206 - val_accuracy: 0.9932\n",
      "Epoch 14/20\n",
      "663/663 [==============================] - 2s 3ms/step - loss: 0.0082 - accuracy: 0.9979 - val_loss: 0.0222 - val_accuracy: 0.9921\n",
      "Epoch 15/20\n",
      "663/663 [==============================] - 2s 3ms/step - loss: 0.0076 - accuracy: 0.9980 - val_loss: 0.0231 - val_accuracy: 0.9913\n",
      "Epoch 16/20\n",
      "663/663 [==============================] - 2s 3ms/step - loss: 0.0069 - accuracy: 0.9982 - val_loss: 0.0199 - val_accuracy: 0.9932\n",
      "Epoch 17/20\n",
      "663/663 [==============================] - 2s 3ms/step - loss: 0.0065 - accuracy: 0.9982 - val_loss: 0.0210 - val_accuracy: 0.9925\n",
      "Epoch 18/20\n",
      "663/663 [==============================] - 2s 3ms/step - loss: 0.0056 - accuracy: 0.9987 - val_loss: 0.0246 - val_accuracy: 0.9913\n",
      "Epoch 19/20\n",
      "663/663 [==============================] - 2s 3ms/step - loss: 0.0053 - accuracy: 0.9985 - val_loss: 0.0239 - val_accuracy: 0.9925\n",
      "Epoch 20/20\n",
      "663/663 [==============================] - 2s 3ms/step - loss: 0.0054 - accuracy: 0.9986 - val_loss: 0.0252 - val_accuracy: 0.9905\n",
      "Epoch 1/20\n",
      "663/663 [==============================] - 2s 3ms/step - loss: 1.1533 - accuracy: 0.6351 - val_loss: 0.8630 - val_accuracy: 0.6751\n",
      "Epoch 2/20\n",
      "663/663 [==============================] - 2s 3ms/step - loss: 0.5617 - accuracy: 0.8537 - val_loss: 0.5785 - val_accuracy: 0.8276\n",
      "Epoch 3/20\n",
      "663/663 [==============================] - 2s 3ms/step - loss: 0.3879 - accuracy: 0.9120 - val_loss: 0.4515 - val_accuracy: 0.8639\n",
      "Epoch 4/20\n",
      "663/663 [==============================] - 2s 3ms/step - loss: 0.2989 - accuracy: 0.9331 - val_loss: 0.3581 - val_accuracy: 0.9004\n",
      "Epoch 5/20\n",
      "663/663 [==============================] - 2s 3ms/step - loss: 0.2425 - accuracy: 0.9454 - val_loss: 0.2903 - val_accuracy: 0.9218\n",
      "Epoch 6/20\n",
      "663/663 [==============================] - 2s 3ms/step - loss: 0.2023 - accuracy: 0.9541 - val_loss: 0.2530 - val_accuracy: 0.9251\n",
      "Epoch 7/20\n",
      "663/663 [==============================] - 2s 3ms/step - loss: 0.1719 - accuracy: 0.9603 - val_loss: 0.2089 - val_accuracy: 0.9430\n",
      "Epoch 8/20\n",
      "663/663 [==============================] - 2s 3ms/step - loss: 0.1478 - accuracy: 0.9654 - val_loss: 0.1803 - val_accuracy: 0.9505\n",
      "Epoch 9/20\n",
      "663/663 [==============================] - 2s 3ms/step - loss: 0.1287 - accuracy: 0.9694 - val_loss: 0.1614 - val_accuracy: 0.9525\n",
      "Epoch 10/20\n",
      "663/663 [==============================] - 2s 3ms/step - loss: 0.1131 - accuracy: 0.9730 - val_loss: 0.1397 - val_accuracy: 0.9599\n",
      "Epoch 11/20\n",
      "663/663 [==============================] - 2s 3ms/step - loss: 0.1004 - accuracy: 0.9765 - val_loss: 0.1194 - val_accuracy: 0.9699\n",
      "Epoch 12/20\n",
      "663/663 [==============================] - 2s 3ms/step - loss: 0.0899 - accuracy: 0.9786 - val_loss: 0.1081 - val_accuracy: 0.9734\n",
      "Epoch 13/20\n",
      "663/663 [==============================] - 2s 3ms/step - loss: 0.0812 - accuracy: 0.9806 - val_loss: 0.0969 - val_accuracy: 0.9759\n",
      "Epoch 14/20\n",
      "663/663 [==============================] - 2s 3ms/step - loss: 0.0740 - accuracy: 0.9827 - val_loss: 0.0907 - val_accuracy: 0.9762\n",
      "Epoch 15/20\n",
      "663/663 [==============================] - 2s 3ms/step - loss: 0.0678 - accuracy: 0.9842 - val_loss: 0.0869 - val_accuracy: 0.9767\n",
      "Epoch 16/20\n",
      "663/663 [==============================] - 2s 3ms/step - loss: 0.0625 - accuracy: 0.9851 - val_loss: 0.0756 - val_accuracy: 0.9826\n",
      "Epoch 17/20\n",
      "663/663 [==============================] - 2s 3ms/step - loss: 0.0580 - accuracy: 0.9862 - val_loss: 0.0751 - val_accuracy: 0.9805\n",
      "Epoch 18/20\n",
      "663/663 [==============================] - 2s 4ms/step - loss: 0.0540 - accuracy: 0.9871 - val_loss: 0.0679 - val_accuracy: 0.9838\n",
      "Epoch 19/20\n",
      "663/663 [==============================] - 2s 3ms/step - loss: 0.0506 - accuracy: 0.9878 - val_loss: 0.0607 - val_accuracy: 0.9860\n",
      "Epoch 20/20\n",
      "663/663 [==============================] - 2s 3ms/step - loss: 0.0475 - accuracy: 0.9884 - val_loss: 0.0573 - val_accuracy: 0.9866\n"
     ]
    }
   ],
   "source": [
    "rates = [0.01,0.001,0.0001]\n",
    "batch_size = 100\n",
    "loss_hist = []\n",
    "acc_hist = []\n",
    "\n",
    "# TODO 12\n",
    "for lr in rates:\n",
    "  K.clear_session()\n",
    "  model_ = Sequential()\n",
    "  model_.add(Dense(units=nh, input_shape=(nin,), activation='sigmoid', name='hidden'))\n",
    "  model_.add(Dense(units=nout, activation='softmax', name='output'))\n",
    "  opt_ = optimizers.Adam(lr=lr)\n",
    "  model_.compile(optimizer=opt_,\n",
    "              loss='sparse_categorical_crossentropy',\n",
    "              metrics=['accuracy'])\n",
    "  hist = model_.fit(Xtr_scale, ytr, epochs=20, batch_size=batch_size, validation_data=(Xts_scale,yts))\n",
    "  loss_hist.append(hist.history['loss'])\n",
    "  acc_hist.append(hist.history['val_accuracy'])\n"
   ]
  },
  {
   "cell_type": "code",
   "execution_count": 53,
   "metadata": {
    "colab": {
     "base_uri": "https://localhost:8080/",
     "height": 297
    },
    "id": "RCFzUieA6DaH",
    "outputId": "72f02543-3522-4cef-b8dd-4e306a93cdf0"
   },
   "outputs": [
    {
     "data": {
      "text/plain": [
       "<matplotlib.legend.Legend at 0x7f41a32fe2d0>"
      ]
     },
     "execution_count": 53,
     "metadata": {},
     "output_type": "execute_result"
    },
    {
     "data": {
      "image/png": "[encoded data removed]",
      "text/plain": [
       "<Figure size 432x288 with 1 Axes>"
      ]
     },
     "metadata": {
      "needs_background": "light"
     },
     "output_type": "display_data"
    }
   ],
   "source": [
    "# TODO 13\n",
    "xp = np.arange(1,21)\n",
    "plt.semilogy(xp,loss_hist[0],'o-',label=\"lr = 0.01\")\n",
    "plt.semilogy(xp,loss_hist[1],'o-',label=\"lr = 0.001\")\n",
    "plt.semilogy(xp,loss_hist[2],'o-',label=\"lr = 0.0001\")\n",
    "plt.xlabel(\"Epoch\")\n",
    "plt.xlabel(\"Loss\")\n",
    "plt.legend()"
   ]
  }
 ],
 "metadata": {
  "colab": {
   "collapsed_sections": [],
   "name": "Lab9.ipynb",
   "provenance": []
  },
  "kernelspec": {
   "display_name": "Python 3",
   "language": "python",
   "name": "python3"
  },
  "language_info": {
   "codemirror_mode": {
    "name": "ipython",
    "version": 3
   },
   "file_extension": ".py",
   "mimetype": "text/x-python",
   "name": "python",
   "nbconvert_exporter": "python",
   "pygments_lexer": "ipython3",
   "version": "3.8.5"
  }
 },
 "nbformat": 4,
 "nbformat_minor": 1
}
