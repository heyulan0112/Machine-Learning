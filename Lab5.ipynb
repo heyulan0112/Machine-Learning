{
 "cells": [
  {
   "cell_type": "code",
   "execution_count": 1,
   "metadata": {
    "id": "-8l4MZ0ZH0Wv"
   },
   "outputs": [],
   "source": [
    "import numpy as np\n",
    "import matplotlib.pyplot as plt\n",
    "import pickle\n",
    "\n",
    "from sklearn.linear_model import Lasso, Ridge, ElasticNet\n",
    "from sklearn.metrics import r2_score\n",
    "from sklearn.model_selection import train_test_split"
   ]
  },
  {
   "cell_type": "code",
   "execution_count": 2,
   "metadata": {
    "colab": {
     "base_uri": "https://localhost:8080/"
    },
    "id": "rbSzye1uH3P8",
    "outputId": "c7ac9141-d9e3-4d8c-c958-2d166aabbda7"
   },
   "outputs": [
    {
     "name": "stdout",
     "output_type": "stream",
     "text": [
      "File eeg_dat.p is already downloaded\n"
     ]
    }
   ],
   "source": [
    "fn_src ='https://drive.google.com/uc?export=download&id=1RzQpKONOcXSMxH2ZzOI4iVMiTgD6ttSl'\n",
    "fn_dst ='eeg_dat.p'\n",
    "\n",
    "import os\n",
    "from six.moves import urllib\n",
    "\n",
    "if os.path.isfile(fn_dst):\n",
    "    print('File %s is already downloaded' % fn_dst)\n",
    "else:        \n",
    "    print('Fetching file %s [53MB].  This may take a minute..' % fn_dst)\n",
    "    urllib.request.urlretrieve(fn_src, fn_dst)\n",
    "    print('File %s downloaded' % fn_dst)"
   ]
  },
  {
   "cell_type": "code",
   "execution_count": 3,
   "metadata": {
    "id": "pHuLluDDKRj9"
   },
   "outputs": [],
   "source": [
    "import pickle\n",
    "fn = 'eeg_dat.p'\n",
    "with open(fn, 'rb') as fp:\n",
    "    [X,Y] = pickle.load(fp)"
   ]
  },
  {
   "cell_type": "code",
   "execution_count": 4,
   "metadata": {
    "colab": {
     "base_uri": "https://localhost:8080/"
    },
    "id": "JSOfS-4eKVLA",
    "outputId": "405a7abf-e273-4f60-b38f-a443c2b136f7"
   },
   "outputs": [
    {
     "name": "stdout",
     "output_type": "stream",
     "text": [
      "nt:85,ncur:22494,nchan:305,nvoxels:7498.0\n"
     ]
    }
   ],
   "source": [
    "# TODO 1\n",
    "nt = Y.shape[1]\n",
    "ncur = X.shape[1]\n",
    "nchan = Y.shape[0]\n",
    "nvoxels = ncur / 3\n",
    "print(\"nt:{},ncur:{},nchan:{},nvoxels:{}\".format(nt,ncur,nchan,nvoxels))"
   ]
  },
  {
   "cell_type": "code",
   "execution_count": 5,
   "metadata": {
    "id": "MnNzcFgGStLY"
   },
   "outputs": [],
   "source": [
    "# TODO 2\n",
    "Xtr1,Xts1,Ytr1,Yts1 = train_test_split(X,Y,test_size=0.33) "
   ]
  },
  {
   "cell_type": "code",
   "execution_count": 6,
   "metadata": {
    "id": "uVCMzk4IWk8S"
   },
   "outputs": [],
   "source": [
    "# TODO 3\n",
    "\n",
    "from sklearn.preprocessing import StandardScaler\n",
    "\n",
    "xscal = StandardScaler()\n",
    "yscal = StandardScaler()\n",
    "Xtr = xscal.fit_transform(Xtr1)\n",
    "Xts = xscal.transform(Xts1)\n",
    "Ytr = yscal.fit_transform(Ytr1)\n",
    "Yts = yscal.transform(Yts1)\n",
    "\n",
    "regr = Ridge(alpha=1)"
   ]
  },
  {
   "cell_type": "code",
   "execution_count": 7,
   "metadata": {
    "colab": {
     "base_uri": "https://localhost:8080/"
    },
    "id": "LX_FC8p5YCIb",
    "outputId": "40325d09-99e2-41cc-ccab-eb9d6ccff154"
   },
   "outputs": [
    {
     "name": "stdout",
     "output_type": "stream",
     "text": [
      "rsq_tr:0.9913835239933481,rsq_ts:-3.0417168130447303\n"
     ]
    }
   ],
   "source": [
    "# TODO 4\n",
    "regr.fit(Xtr, Ytr)\n",
    "yhat = regr.predict(Xtr)\n",
    "yhat_ts = regr.predict(Xts)\n",
    "rsq_tr = r2_score(yhat, Ytr)\n",
    "rsq_ts = r2_score(Yts, yhat_ts)\n",
    "print(\"rsq_tr:{},rsq_ts:{}\".format(rsq_tr,rsq_ts))"
   ]
  },
  {
   "cell_type": "code",
   "execution_count": 8,
   "metadata": {
    "id": "1kBzmr2lZs7L"
   },
   "outputs": [],
   "source": [
    "# TODO 5\n",
    "alphas = np.logspace(0.01,100,20)\n",
    "nalpha = len(alphas)\n",
    "rsq = np.zeros(nalpha)\n",
    "for i, a in enumerate(alphas):\n",
    "  # Fit on the training data\n",
    "  reg = Ridge(alpha=a)\n",
    "  reg.fit(Xtr, Ytr)\n",
    "\n",
    "  # Score on the test data\n",
    "  yhat = reg.predict(Xts)\n",
    "  rsq[i] = r2_score(Yts, yhat)"
   ]
  },
  {
   "cell_type": "code",
   "execution_count": 9,
   "metadata": {
    "colab": {
     "base_uri": "https://localhost:8080/",
     "height": 297
    },
    "id": "j8MGjLKXumVI",
    "outputId": "541587ff-7a04-48f3-f5ee-b33e48da90d3"
   },
   "outputs": [
    {
     "data": {
      "image/png": "[encoded data removed]",
      "text/plain": [
       "<Figure size 432x288 with 1 Axes>"
      ]
     },
     "metadata": {
      "needs_background": "light"
     },
     "output_type": "display_data"
    },
    {
     "name": "stdout",
     "output_type": "stream",
     "text": [
      "Maximum test R^2:0.11917333137807114\n"
     ]
    }
   ],
   "source": [
    "# TODO 6\n",
    "xp = np.linspace(0.01,100,20)\n",
    "plt.plot(xp,rsq)\n",
    "plt.xlabel('alpha')\n",
    "plt.ylabel('Test R^2')\n",
    "plt.grid()\n",
    "plt.show()\n",
    "print(\"Maximum test R^2:{}\".format(np.max(rsq)))"
   ]
  },
  {
   "cell_type": "code",
   "execution_count": 10,
   "metadata": {
    "colab": {
     "base_uri": "https://localhost:8080/"
    },
    "id": "il3y3KnM3L3T",
    "outputId": "fd5edd36-46e2-46c2-be22-c3be65e821a5"
   },
   "outputs": [
    {
     "name": "stdout",
     "output_type": "stream",
     "text": [
      "Optimal alpha is 1.023292992280754\n",
      "[0.28563329 0.45895426 0.40475999 ... 0.06258695 0.02785448 0.07471179]\n"
     ]
    }
   ],
   "source": [
    "from math import sqrt\n",
    "# TODO 7\n",
    "rsq_ridge_mean = np.mean(rsq)\n",
    "im = np.argmax(rsq_ridge_mean)\n",
    "alpha_op = alphas[im]\n",
    "print(\"Optimal alpha is {}\".format(alpha_op))\n",
    "\n",
    "reg_op = Ridge(alpha=alpha_op)\n",
    "reg_op.fit(Xtr,Ytr)\n",
    "yhat_op = reg_op.predict(Xts)\n",
    "W = reg_op.coef_\n",
    "W = np.transpose(W)\n",
    "Wrms = np.zeros(W.shape[0])\n",
    "for j in range(W.shape[0]):\n",
    "  for k in range(W.shape[1]):\n",
    "    Wrms[j] += (W[j,k]**2)\n",
    "  Wrms[j] = sqrt(Wrms[j])\n",
    "print(Wrms)"
   ]
  },
  {
   "cell_type": "code",
   "execution_count": null,
   "metadata": {
    "id": "0-TkzLf-HXPy"
   },
   "outputs": [],
   "source": [
    "# TODO 8\n",
    "regr_la = Lasso(alpha=1e-3,max_iter=100,tol=0.01)\n",
    "regr_la.fit(Xtr, Ytr)"
   ]
  },
  {
   "cell_type": "code",
   "execution_count": 12,
   "metadata": {
    "colab": {
     "base_uri": "https://localhost:8080/"
    },
    "id": "8TOxkgfdYCD3",
    "outputId": "dba97adb-2b06-43c1-ac6c-453bbdeedde3"
   },
   "outputs": [
    {
     "name": "stdout",
     "output_type": "stream",
     "text": [
      "Lasso rsq:-1.1433842366269564\n"
     ]
    }
   ],
   "source": [
    "# TODO 9\n",
    "yhat_la = regr_la.predict(Xts)\n",
    "rsq_la = r2_score(Yts,yhat_la)\n",
    "print(\"Lasso rsq:{}\".format(rsq_la))"
   ]
  },
  {
   "cell_type": "code",
   "execution_count": 13,
   "metadata": {
    "id": "yfIqoTWWYq4Z"
   },
   "outputs": [],
   "source": [
    "# TODO 10\n",
    "alphas_la = np.logspace(0.0001,0.001,5)\n",
    "na = len(alphas_la)\n",
    "rsq_la = np.zeros(na)\n",
    "W_collect = np.zeros((na,W.shape[0],W.shape[1]))\n",
    "for i, a in enumerate(alphas_la):\n",
    "  # Fit on the training data\n",
    "  reg_la = Lasso(alpha=a)\n",
    "  reg_la.fit(Xtr, Ytr)\n",
    "\n",
    "  # Score on the test data\n",
    "  yhat_la_cross = reg_la.predict(Xts)\n",
    "  rsq_la[i] = r2_score(Yts, yhat_la_cross)\n",
    "\n",
    "  W_i = reg_la.coef_\n",
    "  W_i = np.transpose(W_i)\n",
    "  W_collect[i] = W_i"
   ]
  },
  {
   "cell_type": "code",
   "execution_count": 14,
   "metadata": {
    "colab": {
     "base_uri": "https://localhost:8080/",
     "height": 297
    },
    "id": "FIYjtUrGeiWo",
    "outputId": "720af5db-c58f-4069-e844-fbf0429045fa"
   },
   "outputs": [
    {
     "data": {
      "image/png": "[encoded data removed]",
      "text/plain": [
       "<Figure size 432x288 with 1 Axes>"
      ]
     },
     "metadata": {
      "needs_background": "light"
     },
     "output_type": "display_data"
    },
    {
     "name": "stdout",
     "output_type": "stream",
     "text": [
      "Lasso maximum test R^2:-0.007966872662701673\n"
     ]
    }
   ],
   "source": [
    "# TODO 11\n",
    "plt.plot(alphas_la,rsq_la)\n",
    "plt.xlabel('alpha')\n",
    "plt.ylabel('Test R^2')\n",
    "plt.grid()\n",
    "plt.show()\n",
    "print(\"Lasso maximum test R^2:{}\".format(np.max(rsq_la)))"
   ]
  },
  {
   "cell_type": "code",
   "execution_count": 15,
   "metadata": {
    "colab": {
     "base_uri": "https://localhost:8080/"
    },
    "id": "lMT3Zs1wkNUT",
    "outputId": "4f0aed5e-f320-458f-e722-9dcccc773ea8"
   },
   "outputs": [
    {
     "name": "stdout",
     "output_type": "stream",
     "text": [
      "[0. 0. 0. ... 0. 0. 0.]\n"
     ]
    }
   ],
   "source": [
    "# TODO 12\n",
    "rsq_lasso_mean = np.mean(rsq_la)\n",
    "imax = np.argmax(rsq_lasso_mean)\n",
    "\n",
    "Wrms_la = np.zeros(W_collect[imax].shape[0])\n",
    "for j in range(W_collect[imax].shape[0]):\n",
    "  for k in range(W_collect[imax].shape[1]):\n",
    "    Wrms_la[j] += (W_collect[imax,j,k]**2)\n",
    "  Wrms_la[j] = sqrt(Wrms_la[j])\n",
    "print(Wrms_la)"
   ]
  }
 ],
 "metadata": {
  "colab": {
   "collapsed_sections": [],
   "name": "Lab5.ipynb",
   "provenance": []
  },
  "kernelspec": {
   "display_name": "Python 3",
   "language": "python",
   "name": "python3"
  },
  "language_info": {
   "codemirror_mode": {
    "name": "ipython",
    "version": 3
   },
   "file_extension": ".py",
   "mimetype": "text/x-python",
   "name": "python",
   "nbconvert_exporter": "python",
   "pygments_lexer": "ipython3",
   "version": "3.8.5"
  }
 },
 "nbformat": 4,
 "nbformat_minor": 1
}
