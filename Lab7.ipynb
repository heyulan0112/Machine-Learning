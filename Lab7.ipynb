{
 "cells": [
  {
   "cell_type": "code",
   "execution_count": 1,
   "metadata": {
    "id": "SlGv0FhFSpbl"
   },
   "outputs": [],
   "source": [
    "import pandas as pd\n",
    "import numpy as np\n",
    "import matplotlib.pyplot as plt\n",
    "from sklearn.linear_model import Ridge, LinearRegression"
   ]
  },
  {
   "cell_type": "code",
   "execution_count": 2,
   "metadata": {
    "colab": {
     "base_uri": "https://localhost:8080/",
     "height": 206
    },
    "id": "YuYMlgMcS27f",
    "outputId": "51dbc414-dd10-416c-de4d-b8c9c2888fdf"
   },
   "outputs": [
    {
     "data": {
      "text/html": [
       "\n",
       "  <div id=\"df-58116c05-cb5e-41c3-b682-59169c0478a7\">\n",
       "    <div class=\"colab-df-container\">\n",
       "      <div>\n",
       "<style scoped>\n",
       "    .dataframe tbody tr th:only-of-type {\n",
       "        vertical-align: middle;\n",
       "    }\n",
       "\n",
       "    .dataframe tbody tr th {\n",
       "        vertical-align: top;\n",
       "    }\n",
       "\n",
       "    .dataframe thead th {\n",
       "        text-align: right;\n",
       "    }\n",
       "</style>\n",
       "<table border=\"1\" class=\"dataframe\">\n",
       "  <thead>\n",
       "    <tr style=\"text-align: right;\">\n",
       "      <th></th>\n",
       "      <th>y0</th>\n",
       "      <th>x0</th>\n",
       "      <th>dummy</th>\n",
       "    </tr>\n",
       "  </thead>\n",
       "  <tbody>\n",
       "    <tr>\n",
       "      <th>0</th>\n",
       "      <td>0.591</td>\n",
       "      <td>24.41</td>\n",
       "      <td>NaN</td>\n",
       "    </tr>\n",
       "    <tr>\n",
       "      <th>1</th>\n",
       "      <td>1.547</td>\n",
       "      <td>34.82</td>\n",
       "      <td>NaN</td>\n",
       "    </tr>\n",
       "    <tr>\n",
       "      <th>2</th>\n",
       "      <td>2.902</td>\n",
       "      <td>44.09</td>\n",
       "      <td>NaN</td>\n",
       "    </tr>\n",
       "    <tr>\n",
       "      <th>3</th>\n",
       "      <td>2.894</td>\n",
       "      <td>45.07</td>\n",
       "      <td>NaN</td>\n",
       "    </tr>\n",
       "    <tr>\n",
       "      <th>4</th>\n",
       "      <td>4.703</td>\n",
       "      <td>54.98</td>\n",
       "      <td>NaN</td>\n",
       "    </tr>\n",
       "  </tbody>\n",
       "</table>\n",
       "</div>\n",
       "      <button class=\"colab-df-convert\" onclick=\"convertToInteractive('df-58116c05-cb5e-41c3-b682-59169c0478a7')\"\n",
       "              title=\"Convert this dataframe to an interactive table.\"\n",
       "              style=\"display:none;\">\n",
       "        \n",
       "  <svg xmlns=\"http://www.w3.org/2000/svg\" height=\"24px\"viewBox=\"0 0 24 24\"\n",
       "       width=\"24px\">\n",
       "    <path d=\"M0 0h24v24H0V0z\" fill=\"none\"/>\n",
       "    <path d=\"M18.56 5.44l.94 2.06.94-2.06 2.06-.94-2.06-.94-.94-2.06-.94 2.06-2.06.94zm-11 1L8.5 8.5l.94-2.06 2.06-.94-2.06-.94L8.5 2.5l-.94 2.06-2.06.94zm10 10l.94 2.06.94-2.06 2.06-.94-2.06-.94-.94-2.06-.94 2.06-2.06.94z\"/><path d=\"M17.41 7.96l-1.37-1.37c-.4-.4-.92-.59-1.43-.59-.52 0-1.04.2-1.43.59L10.3 9.45l-7.72 7.72c-.78.78-.78 2.05 0 2.83L4 21.41c.39.39.9.59 1.41.59.51 0 1.02-.2 1.41-.59l7.78-7.78 2.81-2.81c.8-.78.8-2.07 0-2.86zM5.41 20L4 18.59l7.72-7.72 1.47 1.35L5.41 20z\"/>\n",
       "  </svg>\n",
       "      </button>\n",
       "      \n",
       "  <style>\n",
       "    .colab-df-container {\n",
       "      display:flex;\n",
       "      flex-wrap:wrap;\n",
       "      gap: 12px;\n",
       "    }\n",
       "\n",
       "    .colab-df-convert {\n",
       "      background-color: #E8F0FE;\n",
       "      border: none;\n",
       "      border-radius: 50%;\n",
       "      cursor: pointer;\n",
       "      display: none;\n",
       "      fill: #1967D2;\n",
       "      height: 32px;\n",
       "      padding: 0 0 0 0;\n",
       "      width: 32px;\n",
       "    }\n",
       "\n",
       "    .colab-df-convert:hover {\n",
       "      background-color: #E2EBFA;\n",
       "      box-shadow: 0px 1px 2px rgba(60, 64, 67, 0.3), 0px 1px 3px 1px rgba(60, 64, 67, 0.15);\n",
       "      fill: #174EA6;\n",
       "    }\n",
       "\n",
       "    [theme=dark] .colab-df-convert {\n",
       "      background-color: #3B4455;\n",
       "      fill: #D2E3FC;\n",
       "    }\n",
       "\n",
       "    [theme=dark] .colab-df-convert:hover {\n",
       "      background-color: #434B5C;\n",
       "      box-shadow: 0px 1px 3px 1px rgba(0, 0, 0, 0.15);\n",
       "      filter: drop-shadow(0px 1px 2px rgba(0, 0, 0, 0.3));\n",
       "      fill: #FFFFFF;\n",
       "    }\n",
       "  </style>\n",
       "\n",
       "      <script>\n",
       "        const buttonEl =\n",
       "          document.querySelector('#df-58116c05-cb5e-41c3-b682-59169c0478a7 button.colab-df-convert');\n",
       "        buttonEl.style.display =\n",
       "          google.colab.kernel.accessAllowed ? 'block' : 'none';\n",
       "\n",
       "        async function convertToInteractive(key) {\n",
       "          const element = document.querySelector('#df-58116c05-cb5e-41c3-b682-59169c0478a7');\n",
       "          const dataTable =\n",
       "            await google.colab.kernel.invokeFunction('convertToInteractive',\n",
       "                                                     [key], {});\n",
       "          if (!dataTable) return;\n",
       "\n",
       "          const docLinkHtml = 'Like what you see? Visit the ' +\n",
       "            '<a target=\"_blank\" href=https://colab.research.google.com/notebooks/data_table.ipynb>data table notebook</a>'\n",
       "            + ' to learn more about interactive tables.';\n",
       "          element.innerHTML = '';\n",
       "          dataTable['output_type'] = 'display_data';\n",
       "          await google.colab.output.renderOutput(dataTable, element);\n",
       "          const docLink = document.createElement('div');\n",
       "          docLink.innerHTML = docLinkHtml;\n",
       "          element.appendChild(docLink);\n",
       "        }\n",
       "      </script>\n",
       "    </div>\n",
       "  </div>\n",
       "  "
      ],
      "text/plain": [
       "      y0     x0  dummy\n",
       "0  0.591  24.41    NaN\n",
       "1  1.547  34.82    NaN\n",
       "2  2.902  44.09    NaN\n",
       "3  2.894  45.07    NaN\n",
       "4  4.703  54.98    NaN"
      ]
     },
     "execution_count": 2,
     "metadata": {},
     "output_type": "execute_result"
    }
   ],
   "source": [
    "url = 'https://itl.nist.gov/div898/strd/nls/data/LINKS/DATA/Hahn1.dat'\n",
    "df = pd.read_csv(url, skiprows=60, sep=' ',skipinitialspace=True, names=['y0','x0','dummy'])\n",
    "df.head()"
   ]
  },
  {
   "cell_type": "code",
   "execution_count": 3,
   "metadata": {
    "colab": {
     "base_uri": "https://localhost:8080/",
     "height": 297
    },
    "id": "96uq3XW_S8zC",
    "outputId": "c85752b3-75a6-4d3f-f278-ae88122c4ba9"
   },
   "outputs": [
    {
     "data": {
      "text/plain": [
       "Text(0, 0.5, 'y')"
      ]
     },
     "execution_count": 3,
     "metadata": {},
     "output_type": "execute_result"
    },
    {
     "data": {
      "image/png": "[encoded data removed]",
      "text/plain": [
       "<Figure size 432x288 with 1 Axes>"
      ]
     },
     "metadata": {
      "needs_background": "light"
     },
     "output_type": "display_data"
    }
   ],
   "source": [
    "# TODO 1\n",
    "x0 = np.array(df['x0'])\n",
    "y0 = np.array(df['y0'])\n",
    "x = x0/np.max(x0)\n",
    "y = y0/np.max(y0)\n",
    "plt.plot(x,y,'o')\n",
    "plt.xlabel('x')\n",
    "plt.ylabel('y')"
   ]
  },
  {
   "cell_type": "code",
   "execution_count": 4,
   "metadata": {
    "colab": {
     "base_uri": "https://localhost:8080/",
     "height": 297
    },
    "id": "gQFuG6YKdL6R",
    "outputId": "18512d8e-435b-4094-9abd-e6b10134b68d"
   },
   "outputs": [
    {
     "data": {
      "text/plain": [
       "Text(0, 0.5, 'y with noise')"
      ]
     },
     "execution_count": 4,
     "metadata": {},
     "output_type": "execute_result"
    },
    {
     "data": {
      "image/png": "[encoded data removed]",
      "text/plain": [
       "<Figure size 432x288 with 1 Axes>"
      ]
     },
     "metadata": {
      "needs_background": "light"
     },
     "output_type": "display_data"
    }
   ],
   "source": [
    "# TODO 2\n",
    "nsamp = y.shape[0]\n",
    "wstd = 0.02\n",
    "yn = y + np.random.normal(0,wstd,nsamp)\n",
    "plt.plot(x,yn,'o')\n",
    "plt.xlabel('x')\n",
    "plt.ylabel('y with noise')"
   ]
  },
  {
   "cell_type": "code",
   "execution_count": 5,
   "metadata": {
    "id": "6P0GwORBjMyt"
   },
   "outputs": [],
   "source": [
    "from sklearn.model_selection import train_test_split\n",
    "\n",
    "# TODO 3\n",
    "xtr, xts, ytr, yts = train_test_split(x,yn,test_size = 0.33)"
   ]
  },
  {
   "cell_type": "code",
   "execution_count": 6,
   "metadata": {
    "id": "R1FzeS92jiTk"
   },
   "outputs": [],
   "source": [
    "def predict(w,x):\n",
    "    \n",
    "    # Get the length\n",
    "    d = (len(w)-1)//2\n",
    "    \n",
    "    # TODO 4.  Extract a and b from w\n",
    "    a = w[:d+1]\n",
    "    b = w[-d:]\n",
    "    \n",
    "    # TODO 5.  Compute yhat.  You may use the np.polyval function\n",
    "    # But, remember you must flip the order the a and b\n",
    "    vala = 0\n",
    "    valb = 1\n",
    "    for i in range(0,d+1):\n",
    "      vala += a[i] * (x**i)\n",
    "    for i in range(0,d):\n",
    "      valb += b[i] * (x**(i+1))\n",
    "    yhat = vala / valb\n",
    "    return yhat"
   ]
  },
  {
   "cell_type": "code",
   "execution_count": 7,
   "metadata": {
    "id": "GoEPFIUtCmzb"
   },
   "outputs": [],
   "source": [
    "d = 3\n",
    "\n",
    "# TODO 6.  Create the transformed feature matrix\n",
    "n = xtr.shape[0]\n",
    "Z = np.zeros((n,2*d))\n",
    "\n",
    "for i in range(n):\n",
    "  for j in range(d):\n",
    "    Z[i,j] = xtr[i]**(j+1)\n",
    "    Z[i,j+d] = ytr[i] * (xtr[i]**(j+1))\n",
    "\n",
    "# TODO 7.  Fit with parameters with linear regression\n",
    "regr = LinearRegression()\n",
    "regr.fit(Z,ytr)\n",
    "\n",
    "# TODO 8\n",
    "# Extract the parameters from regr.coef_ and regr.intercept_ and store the parameter vector in winit\n",
    "W = regr.coef_.ravel()\n",
    "npar = len(W)\n",
    "winit = np.array(npar+1)\n",
    "winit = np.hstack((regr.intercept_,W))"
   ]
  },
  {
   "cell_type": "code",
   "execution_count": 8,
   "metadata": {
    "colab": {
     "base_uri": "https://localhost:8080/",
     "height": 297
    },
    "id": "HJkifyZMlR8A",
    "outputId": "09fe0964-2d53-454c-b850-7f3cdd6c8286"
   },
   "outputs": [
    {
     "data": {
      "text/plain": [
       "<matplotlib.legend.Legend at 0x7fa8f88af190>"
      ]
     },
     "execution_count": 8,
     "metadata": {},
     "output_type": "execute_result"
    },
    {
     "data": {
      "image/png": "[encoded data removed]",
      "text/plain": [
       "<Figure size 432x288 with 1 Axes>"
      ]
     },
     "metadata": {
      "needs_background": "light"
     },
     "output_type": "display_data"
    }
   ],
   "source": [
    "# TODO 9\n",
    "nts = xts.shape[0]\n",
    "Z_ts = np.zeros((nts,2*d))\n",
    "for i in range(nts):\n",
    "  for j in range(d):\n",
    "    Z_ts[i,j] = xts[i]**(j+1)\n",
    "    Z_ts[i,j+d] = yts[i] * (xts[i]**(j+1))\n",
    "\n",
    "xp = np.linspace(0,1,1000)\n",
    "yhat = predict(winit,xts)\n",
    "plt.plot(xts,yhat,'o',label = \"Predicted\")\n",
    "plt.plot(xts,yts,'o',label = \"Test\")\n",
    "plt.xlabel('x')\n",
    "plt.ylabel('y')\n",
    "plt.legend(loc=\"upper left\")"
   ]
  },
  {
   "cell_type": "code",
   "execution_count": 9,
   "metadata": {
    "colab": {
     "base_uri": "https://localhost:8080/",
     "height": 297
    },
    "id": "pXp1tb6Tp-Pq",
    "outputId": "2974bb66-9d80-4ab2-aef0-bddd81f10aa3"
   },
   "outputs": [
    {
     "data": {
      "text/plain": [
       "<matplotlib.legend.Legend at 0x7fa8f2c5dd50>"
      ]
     },
     "execution_count": 9,
     "metadata": {},
     "output_type": "execute_result"
    },
    {
     "data": {
      "image/png": "[encoded data removed]",
      "text/plain": [
       "<Figure size 432x288 with 1 Axes>"
      ]
     },
     "metadata": {
      "needs_background": "light"
     },
     "output_type": "display_data"
    }
   ],
   "source": [
    "# TODO 10.  Fit with parameters with linear regression\n",
    "regr = Ridge(alpha=1e-3)\n",
    "regr.fit(Z,ytr)\n",
    "\n",
    "# TODO 11\n",
    "# Extract the parameters from regr.coef_ and regr.intercept_\n",
    "Wnew = regr.coef_.ravel()\n",
    "npar = len(Wnew)\n",
    "winit = np.array(npar+1)\n",
    "winit = np.hstack((regr.intercept_,Wnew))\n",
    "\n",
    "# TODO 12\n",
    "# Plot the results as above.\n",
    "yhat_new = predict(winit,xts)\n",
    "plt.plot(xts,yhat_new,'o',label = \"Predicted\")\n",
    "plt.plot(xts,yts,'o',label = \"Test\")\n",
    "plt.xlabel('x')\n",
    "plt.ylabel('y')\n",
    "plt.legend(loc=\"upper left\")"
   ]
  },
  {
   "cell_type": "code",
   "execution_count": 10,
   "metadata": {
    "id": "cb7RCE_zsIyv"
   },
   "outputs": [],
   "source": [
    "def feval(w,x,y):\n",
    "\n",
    "    # TODO 13.  Parse w\n",
    "    a = w[:d+1]\n",
    "    b = w[-d:]\n",
    "    \n",
    "    # TODO 14.  Znum[i,j] = x[i]**j\n",
    "    nx = x.shape[0]\n",
    "    ny = y.shape[0]\n",
    "    Znum = np.zeros((nx,d+1))\n",
    "    numerator = np.zeros(nx)\n",
    "    Zden = np.zeros((nx,d))\n",
    "    denominator = np.ones(nx)\n",
    "    for i in range(nx):\n",
    "      for j in range(d+1):\n",
    "        Znum[i,j] = x[i]**j\n",
    "        numerator[i] += a[j] * Znum[i,j]\n",
    "\n",
    "    # TODO 15.  Zden[i,j] = x[i]**(j+1)\n",
    "    for i in range(nx):\n",
    "      for j in range(d):\n",
    "        Zden[i,j] = x[i]**(j+1)\n",
    "        denominator[i] += b[j] * Zden[i,j]\n",
    "    \n",
    "    # TODO 16.  Compute yhat \n",
    "    # Compute the numerator and denominator\n",
    "\n",
    "    yhat = numerator/denominator\n",
    "\n",
    "    # TODO 17.  Compute loss\n",
    "    sum = 0\n",
    "    for i in range(nx):\n",
    "      sum = sum + (y[i]-yhat[i])**2\n",
    "    f = 0.5 * sum\n",
    "\n",
    "    # TODO 18.  Compute gradients\n",
    "    df_dw = np.zeros((nx,2*d+1))\n",
    "    for i in range(nx):\n",
    "      for j in range(2*d+1):\n",
    "        if j<=d:\n",
    "          df_dw[i,j] = ((x[i]**j) * denominator[i])/denominator[i]**2\n",
    "        else:\n",
    "          df_dw[i,j] = -((x[i]**(j-d)) * numerator[i])/denominator[i]**2\n",
    "\n",
    "    df_dy = yhat-y\n",
    "    fgrad = df_dw.T.dot(df_dy)\n",
    "    return f, fgrad"
   ]
  },
  {
   "cell_type": "code",
   "execution_count": 11,
   "metadata": {
    "colab": {
     "base_uri": "https://localhost:8080/"
    },
    "id": "wH7uAw_oZLHk",
    "outputId": "d7a243b1-a0f5-43bf-f80f-f7b59326349b"
   },
   "outputs": [
    {
     "name": "stdout",
     "output_type": "stream",
     "text": [
      "Actual f1-f0    = 1.941921044756878e-05\n",
      "Predicted f1-f0 = 1.9418852780586682e-05\n"
     ]
    }
   ],
   "source": [
    "# TODO 19\n",
    "w0 = winit\n",
    "f0,fgrad0 = feval(w0,xtr,ytr)\n",
    "step = 1e-6\n",
    "p = w0.shape[0]\n",
    "w1 = w0 + step*np.random.randn(p)\n",
    "f1,fgrad1 = feval(w1,xtr,ytr)\n",
    "df_est = fgrad0.dot(w1-w0)\n",
    "print(\"Actual f1-f0    = {}\".format(f1-f0))\n",
    "print(\"Predicted f1-f0 = {}\".format(df_est))"
   ]
  },
  {
   "cell_type": "code",
   "execution_count": 12,
   "metadata": {
    "colab": {
     "base_uri": "https://localhost:8080/",
     "height": 297
    },
    "id": "2i0O-ChdL2Vn",
    "outputId": "587128b9-f70d-4ca4-924a-5865202ba761"
   },
   "outputs": [
    {
     "data": {
      "text/plain": [
       "Text(0, 0.5, 'Training loss')"
      ]
     },
     "execution_count": 12,
     "metadata": {},
     "output_type": "execute_result"
    },
    {
     "data": {
      "image/png": "[encoded data removed]",
      "text/plain": [
       "<Figure size 432x288 with 1 Axes>"
      ]
     },
     "metadata": {
      "needs_background": "light"
     },
     "output_type": "display_data"
    }
   ],
   "source": [
    "# TODO 20\n",
    "nit = 10000\n",
    "step = 1e-6\n",
    "\n",
    "def grad_opt_simp(feval,winit,lr,nit):\n",
    "    w0 = winit\n",
    "    hist = {'w': [], 'f': []}\n",
    "    for it in range(nit):\n",
    "        f0, fgrad0 = feval(w0,xtr,ytr)\n",
    "        w0 = w0 - lr*fgrad0\n",
    "        hist['f'].append(f0)\n",
    "        hist['w'].append(w0)\n",
    "    for elem in ('f', 'w'):\n",
    "        hist[elem] = np.array(hist[elem])\n",
    "    return w0, f0, hist\n",
    "w, f0, fgd = grad_opt_simp(feval,winit,step,nit)\n",
    "xp = np.linspace(0,nit,nit)\n",
    "plt.plot(xp,fgd['f'])\n",
    "plt.xlabel('Iteration')\n",
    "plt.ylabel('Training loss')"
   ]
  },
  {
   "cell_type": "code",
   "execution_count": 13,
   "metadata": {
    "colab": {
     "base_uri": "https://localhost:8080/",
     "height": 299
    },
    "id": "AZw9fFk4SMA3",
    "outputId": "d9e09df4-f9d1-4072-819d-4d45c94263c3"
   },
   "outputs": [
    {
     "data": {
      "text/plain": [
       "<matplotlib.legend.Legend at 0x7fa8f2acb1d0>"
      ]
     },
     "execution_count": 13,
     "metadata": {},
     "output_type": "execute_result"
    },
    {
     "data": {
      "image/png": "[encoded data removed]",
      "text/plain": [
       "<Figure size 432x288 with 1 Axes>"
      ]
     },
     "metadata": {
      "needs_background": "light"
     },
     "output_type": "display_data"
    }
   ],
   "source": [
    "# TODO 21\n",
    "nit = 10000\n",
    "step = 1e-6\n",
    "lr_min=1e-9\n",
    "def grad_opt_adapt(feval, winit, nit, lr_init, lr_min):\n",
    "\n",
    "    w0 = winit\n",
    "    f0, fgrad0 = feval(w0,xtr,ytr)\n",
    "    lr = lr_init\n",
    "    hist = {'lr': [], 'w': [], 'f': []}\n",
    "\n",
    "    for it in range(nit):\n",
    "        w1 = w0 - lr*fgrad0\n",
    "\n",
    "        f1, fgrad1 = feval(w1,xtr,ytr)\n",
    "        df_est = fgrad0.dot(w1-w0)\n",
    "\n",
    "        alpha = 0.5\n",
    "        if (f1-f0 < alpha*df_est) and (f1 < f0):\n",
    "            lr = lr*2\n",
    "            f0 = f1\n",
    "            fgrad0 = fgrad1\n",
    "            w0 = w1\n",
    "        else:\n",
    "            lr = lr/2\n",
    "            lr = np.maximum(lr, lr_min)\n",
    "\n",
    "        hist['f'].append(f0)\n",
    "        hist['lr'].append(lr)\n",
    "        hist['w'].append(w0)\n",
    "\n",
    "    for elem in ('f', 'lr', 'w'):\n",
    "        hist[elem] = np.array(hist[elem])\n",
    "    return w0, f0, hist\n",
    "w, f0, fadapt = grad_opt_adapt(feval, winit, nit, step,lr_min)\n",
    "xp = np.linspace(0,nit,nit)\n",
    "plt.plot(xp,fadapt['f'],label=\"Adapt\")\n",
    "plt.plot(xp,fgd['f'],label=\"Simple\")\n",
    "plt.xlabel('Iteration')\n",
    "plt.ylabel('Training loss')\n",
    "plt.legend(loc='upper right')"
   ]
  },
  {
   "cell_type": "code",
   "execution_count": 14,
   "metadata": {
    "colab": {
     "base_uri": "https://localhost:8080/",
     "height": 297
    },
    "id": "BaJ7Ycl0WPk2",
    "outputId": "eb4a30a9-726d-4336-de92-946e0c863642"
   },
   "outputs": [
    {
     "data": {
      "text/plain": [
       "<matplotlib.legend.Legend at 0x7fa8f2c2f110>"
      ]
     },
     "execution_count": 14,
     "metadata": {},
     "output_type": "execute_result"
    },
    {
     "data": {
      "image/png": "[encoded data removed]",
      "text/plain": [
       "<Figure size 432x288 with 1 Axes>"
      ]
     },
     "metadata": {
      "needs_background": "light"
     },
     "output_type": "display_data"
    }
   ],
   "source": [
    "# TODO 22\n",
    "xp = np.linspace(0,1,1000)\n",
    "yhat = predict(w,xts)\n",
    "plt.plot(xts,yhat,'o',label=\"Final\")\n",
    "yhat_w = predict(winit,xts)\n",
    "plt.plot(xts,yhat_w,'o',label=\"Initial\")\n",
    "plt.plot(xts,yts,'o',label=\"Test\")\n",
    "plt.xlabel('x')\n",
    "plt.ylabel('y')\n",
    "plt.legend(loc='upper left')"
   ]
  },
  {
   "cell_type": "code",
   "execution_count": 17,
   "metadata": {
    "id": "3yH2p60efc-r"
   },
   "outputs": [],
   "source": [
    "# TODO 23\n",
    "nit = 1000\n",
    "step = 1e-3\n",
    "beta = 0.99\n",
    "fmom = np.zeros(nit)\n",
    "def grad_opt_simp(feval,winit,lr,nit,beta):\n",
    "    w0 = winit\n",
    "    z = 0\n",
    "    hist = {'w': [], 'f': []}\n",
    "    for it in range(nit):\n",
    "        f0, fgrad0 = feval(w0,xtr,ytr)\n",
    "        z = beta*z + fgrad0\n",
    "        w0 = w0 - lr*z\n",
    "        hist['f'].append(f0)\n",
    "        hist['w'].append(w0)\n",
    "    for elem in ('f', 'w'):\n",
    "        hist[elem] = np.array(hist[elem])\n",
    "    return w0, f0, hist\n",
    "w, f0,fmom = grad_opt_simp(feval,winit,step,nit,beta)"
   ]
  },
  {
   "cell_type": "code",
   "execution_count": 18,
   "metadata": {
    "colab": {
     "base_uri": "https://localhost:8080/",
     "height": 299
    },
    "id": "GT50DBIuhJa7",
    "outputId": "3716110a-612c-46b6-8bec-83c0b4024b55"
   },
   "outputs": [
    {
     "data": {
      "text/plain": [
       "Text(0, 0.5, 'Training loss')"
      ]
     },
     "execution_count": 18,
     "metadata": {},
     "output_type": "execute_result"
    },
    {
     "data": {
      "image/png": "[encoded data removed]",
      "text/plain": [
       "<Figure size 432x288 with 1 Axes>"
      ]
     },
     "metadata": {
      "needs_background": "light"
     },
     "output_type": "display_data"
    }
   ],
   "source": [
    "# TODO 24\n",
    "# plot yhat vs. x\n",
    "xp = np.linspace(0,nit,nit)\n",
    "plt.plot(xp,fmom['f'])\n",
    "plt.xlabel('Iteration')\n",
    "plt.ylabel('Training loss')"
   ]
  }
 ],
 "metadata": {
  "colab": {
   "collapsed_sections": [],
   "name": "Lab7.ipynb",
   "provenance": []
  },
  "kernelspec": {
   "display_name": "Python 3",
   "language": "python",
   "name": "python3"
  },
  "language_info": {
   "codemirror_mode": {
    "name": "ipython",
    "version": 3
   },
   "file_extension": ".py",
   "mimetype": "text/x-python",
   "name": "python",
   "nbconvert_exporter": "python",
   "pygments_lexer": "ipython3",
   "version": "3.8.5"
  }
 },
 "nbformat": 4,
 "nbformat_minor": 1
}
