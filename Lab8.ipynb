{
 "cells": [
  {
   "cell_type": "code",
   "execution_count": 1,
   "metadata": {
    "id": "T8fXRu4lnLDx"
   },
   "outputs": [],
   "source": [
    "import numpy as np\n",
    "import matplotlib.pyplot as plt\n",
    "%matplotlib inline\n",
    "from sklearn import linear_model, preprocessing"
   ]
  },
  {
   "cell_type": "code",
   "execution_count": 2,
   "metadata": {
    "colab": {
     "base_uri": "https://localhost:8080/"
    },
    "id": "aGT1e77knRV8",
    "outputId": "03ba3ec6-304c-414c-8d52-52129a54f3b9"
   },
   "outputs": [
    {
     "name": "stdout",
     "output_type": "stream",
     "text": [
      "Files already downloaded\n"
     ]
    }
   ],
   "source": [
    "from tqdm import tqdm\n",
    "import requests\n",
    "import os\n",
    "import zipfile\n",
    "\n",
    "def download_file(src_url, dst_fn):\n",
    "    \n",
    "    if os.path.exists(dst_fn):\n",
    "        print('File %s already exists' % dst_fn)\n",
    "        return\n",
    "    \n",
    "    print('Downloading %s' % dst_fn)\n",
    "    \n",
    "    # Streaming, so we can iterate over the response.\n",
    "    r = requests.get(src_url, stream=True)\n",
    "\n",
    "    # Total size in MB.\n",
    "    total_size = int(r.headers.get('content-length', 0)); \n",
    "    block_size = 1024\n",
    "    wrote = 0 \n",
    "    with open(dst_fn, 'wb') as f:\n",
    "        with tqdm(total=total_size//block_size, unit='kB', \n",
    "                           unit_scale=True, unit_divisor=1024) as pbar:\n",
    "            for data in r.iter_content(block_size):\n",
    "                wrote = wrote + len(data)\n",
    "                pbar.update(1)\n",
    "                f.write(data)\n",
    "    if total_size != 0 and wrote != total_size:\n",
    "        print(\"ERROR, something went wrong\") \n",
    "\n",
    "# Get file names\n",
    "matlab_dir = 'matlab'\n",
    "digits_fn =  os.path.join(matlab_dir,'emnist-digits.mat')\n",
    "letters_fn = os.path.join(matlab_dir,'emnist-letters.mat')\n",
    "\n",
    "# Check if files exists\n",
    "if os.path.exists(matlab_dir):\n",
    "    if os.path.exists(digits_fn) and os.path.exists(letters_fn):\n",
    "        print('Files already downloaded')\n",
    "        files_exists = True\n",
    "else:\n",
    "    files_exists = False\n",
    "    \n",
    "if not files_exists:\n",
    "    # First download the zip file if needed\n",
    "    src_url = \"http://www.itl.nist.gov/iaui/vip/cs_links/EMNIST/matlab.zip\"\n",
    "    dst_fn = 'matlab.zip'\n",
    "    download_file(src_url, dst_fn)\n",
    "    \n",
    "    # Then, unzip the file\n",
    "    print('Unzipping %s...' % dst_fn)\n",
    "    zip_ref = zipfile.ZipFile(dst_fn, 'r')\n",
    "    zip_ref.extractall('.')\n",
    "    zip_ref.close()\n",
    "    print('Unzip completed')"
   ]
  },
  {
   "cell_type": "code",
   "execution_count": 3,
   "metadata": {
    "id": "Axsbdy0Cn893"
   },
   "outputs": [],
   "source": [
    "import scipy.io\n",
    "def load_emnist(file_path='emnist-digits.mat'):\n",
    "    \"\"\"\n",
    "    Loads training and test data with ntr and nts training and test samples\n",
    "    The `file_path` is the location of the `eminst-balanced.mat`.\n",
    "    \"\"\"    \n",
    "    \n",
    "    # Load the MATLAB file\n",
    "    mat = scipy.io.loadmat(file_path)\n",
    "    \n",
    "    # Get the training data\n",
    "    Xtr = mat['dataset'][0][0][0][0][0][0][:]\n",
    "    ntr = Xtr.shape[0]\n",
    "    ytr = mat['dataset'][0][0][0][0][0][1][:].reshape(ntr).astype(int)\n",
    "    \n",
    "    # Get the test data\n",
    "    Xts = mat['dataset'][0][0][1][0][0][0][:]\n",
    "    nts = Xts.shape[0]\n",
    "    yts = mat['dataset'][0][0][1][0][0][1][:].reshape(nts).astype(int)\n",
    "    \n",
    "    print(\"%d training samples, %d test samples loaded\" % (ntr, nts))\n",
    "\n",
    "    return [Xtr, Xts, ytr, yts]"
   ]
  },
  {
   "cell_type": "code",
   "execution_count": 4,
   "metadata": {
    "colab": {
     "base_uri": "https://localhost:8080/"
    },
    "id": "1fPOuzVVokBm",
    "outputId": "8ff2a4c7-6703-4cd8-d328-d4cf469f75f2"
   },
   "outputs": [
    {
     "name": "stdout",
     "output_type": "stream",
     "text": [
      "240000 training samples, 40000 test samples loaded\n"
     ]
    }
   ],
   "source": [
    "# TODO 1:  Load the digit data from emnist-digits.mat\n",
    "\n",
    "Xtr_dig, Xts_dig, ytr_dig, yts_dig = load_emnist(digits_fn)"
   ]
  },
  {
   "cell_type": "code",
   "execution_count": 5,
   "metadata": {
    "colab": {
     "base_uri": "https://localhost:8080/"
    },
    "id": "XD051kfR4KaF",
    "outputId": "6237c98c-67d3-4627-f9f0-a0896375773c"
   },
   "outputs": [
    {
     "name": "stdout",
     "output_type": "stream",
     "text": [
      "124800 training samples, 20800 test samples loaded\n"
     ]
    }
   ],
   "source": [
    "# TODO 2:  Load the digit data from emnist-letters.mat\n",
    "Xtr_let, Xts_let, ytr_let, yts_let = load_emnist(letters_fn)"
   ]
  },
  {
   "cell_type": "code",
   "execution_count": 6,
   "metadata": {
    "id": "zzxsRwoL4VJg"
   },
   "outputs": [],
   "source": [
    "def plt_digit(x,y=None):\n",
    "    nrow = 28\n",
    "    ncol = 28\n",
    "    xsq = x.reshape((nrow,ncol))\n",
    "    plt.imshow(xsq.T,  cmap='Greys_r')\n",
    "    plt.xticks([])\n",
    "    plt.yticks([])    \n",
    "    if y != None:\n",
    "        plt.title('%d' % y)  "
   ]
  },
  {
   "cell_type": "code",
   "execution_count": 7,
   "metadata": {
    "colab": {
     "base_uri": "https://localhost:8080/",
     "height": 110
    },
    "id": "QH0aFDo_4a_i",
    "outputId": "e8e9337a-032d-487f-8ec9-dfd05b182b50"
   },
   "outputs": [
    {
     "data": {
      "image/png": "[encoded data removed]",
      "text/plain": [
       "<Figure size 720x1440 with 8 Axes>"
      ]
     },
     "metadata": {},
     "output_type": "display_data"
    }
   ],
   "source": [
    "# TODO 3:  Plot 8 random samples from the training data of the digits\n",
    "nplt = 8\n",
    "ntr = Xtr_dig.shape[0]\n",
    "Iperm = np.random.permutation(ntr)\n",
    "plt.figure(figsize=(10,20))\n",
    "for i in range(nplt):\n",
    "    ind = Iperm[i]\n",
    "    plt.subplot(1,nplt,i+1)\n",
    "    plt_digit(Xtr_dig[ind,:],ytr_dig[ind])"
   ]
  },
  {
   "cell_type": "code",
   "execution_count": 8,
   "metadata": {
    "colab": {
     "base_uri": "https://localhost:8080/",
     "height": 110
    },
    "id": "mbjJb87JOEOl",
    "outputId": "591221e4-ecd0-4e55-93a3-3040d101b93a"
   },
   "outputs": [
    {
     "data": {
      "image/png": "[encoded data removed]",
      "text/plain": [
       "<Figure size 720x1440 with 8 Axes>"
      ]
     },
     "metadata": {},
     "output_type": "display_data"
    }
   ],
   "source": [
    "# TODO 4:  Plot 8 random samples from the training data of the letters\n",
    "ntr_l = Xtr_let.shape[0]\n",
    "Iperm_l = np.random.permutation(ntr_l)\n",
    "plt.figure(figsize=(10,20))\n",
    "for i in range(nplt):\n",
    "    ind = Iperm_l[i]\n",
    "    plt.subplot(1,nplt,i+1)\n",
    "    plt_digit(Xtr_let[ind,:],ytr_let[ind])"
   ]
  },
  {
   "cell_type": "code",
   "execution_count": 9,
   "metadata": {
    "id": "BjPV1-gdVAvC"
   },
   "outputs": [],
   "source": [
    "remove_list = np.array([9,12,15])\n",
    "\n",
    "# TODO 5:  Create arrays with labels 9, 12 and 15 removed\n",
    "I = np.all(ytr_let[:,None] != remove_list[None,:], axis=1) \n",
    "Xtr_let_rem = Xtr_let[I,:]\n",
    "ytr_let_rem = ytr_let[I]\n",
    "I = np.all(yts_let[:,None] != remove_list[None,:], axis=1) \n",
    "Xts_let_rem = Xts_let[I,:]\n",
    "yts_let_rem = yts_let[I]"
   ]
  },
  {
   "cell_type": "code",
   "execution_count": 10,
   "metadata": {
    "id": "8EUisCx93XsT"
   },
   "outputs": [],
   "source": [
    "# Number of training and test digits and letters\n",
    "ntr_dig = 5000\n",
    "ntr_let = 1000\n",
    "nts_dig = 5000\n",
    "nts_let = 1000\n",
    "\n",
    "# TODO 6 Create sub-sampled training and test data\n",
    "def random_select(x,y,nsamp):\n",
    "  n = x.shape[0]\n",
    "  I = np.random.permutation(n)\n",
    "  x_res = x[I[:nsamp],:]\n",
    "  y_res = y[I[:nsamp]]\n",
    "  return x_res, y_res\n",
    "Xtr1_dig, ytr1_dig = random_select(Xtr_dig,ytr_dig,ntr_dig)\n",
    "Xts1_dig, yts1_dig = random_select(Xts_dig,yts_dig,nts_dig)\n",
    "Xtr1_let, ytr1_let = random_select(Xtr_let_rem,ytr_let_rem,ntr_let)\n",
    "Xts1_let, yts1_let = random_select(Xts_let_rem,yts_let_rem,nts_let)"
   ]
  },
  {
   "cell_type": "code",
   "execution_count": 11,
   "metadata": {
    "id": "pt1DZ-RS8Lf3"
   },
   "outputs": [],
   "source": [
    "# TODO 7:  Create combined letter and digit training and test data\n",
    "Xtr = np.vstack((Xtr1_dig,Xtr1_let))\n",
    "ytr = np.hstack((ytr1_dig, np.ones(ntr_let,dtype='int')*10))\n",
    "Xts = np.vstack((Xts1_dig,Xts1_let))\n",
    "yts = np.hstack((yts1_dig, np.ones(nts_let,dtype='int')*10))"
   ]
  },
  {
   "cell_type": "code",
   "execution_count": 12,
   "metadata": {
    "id": "QzfqeWNYDx2H"
   },
   "outputs": [],
   "source": [
    "# TODO 8:  Rescale the data from -1 to 1\n",
    "Xtr1 = (Xtr*2)/float(255) - 1\n",
    "Xts1 = (Xts*2)/float(255) - 1"
   ]
  },
  {
   "cell_type": "code",
   "execution_count": 13,
   "metadata": {
    "id": "5gpuUUSsKFmb"
   },
   "outputs": [],
   "source": [
    "from sklearn import svm\n",
    "# TODO 9:  Create a classifier: a support vector classifier\n",
    "svc = svm.SVC(probability=False,  kernel=\"rbf\", C=2.8, gamma=.0073,verbose=10)"
   ]
  },
  {
   "cell_type": "code",
   "execution_count": 14,
   "metadata": {
    "colab": {
     "base_uri": "https://localhost:8080/"
    },
    "id": "vGpt59IxNvxx",
    "outputId": "cfc07add-7023-4bd3-c150-af10aba3b1bc"
   },
   "outputs": [
    {
     "name": "stdout",
     "output_type": "stream",
     "text": [
      "[LibSVM]"
     ]
    },
    {
     "data": {
      "text/plain": [
       "SVC(C=2.8, gamma=0.0073, verbose=10)"
      ]
     },
     "execution_count": 14,
     "metadata": {},
     "output_type": "execute_result"
    }
   ],
   "source": [
    "# TODO 10:  Fit the classifier on the training data. \n",
    "svc.fit(Xtr1,ytr)"
   ]
  },
  {
   "cell_type": "code",
   "execution_count": 15,
   "metadata": {
    "colab": {
     "base_uri": "https://localhost:8080/"
    },
    "id": "z-4EqTHyPras",
    "outputId": "2aa7258a-8d3e-47b5-baa7-6f55daa4995f"
   },
   "outputs": [
    {
     "name": "stdout",
     "output_type": "stream",
     "text": [
      "Accuaracy = 0.893333\n"
     ]
    }
   ],
   "source": [
    "# TODO 11:  Measure error on the test data\n",
    "yhat_ts = svc.predict(Xts1)\n",
    "acc = np.mean(yhat_ts == yts)\n",
    "print('Accuaracy = {0:f}'.format(acc))"
   ]
  },
  {
   "cell_type": "code",
   "execution_count": 16,
   "metadata": {
    "colab": {
     "base_uri": "https://localhost:8080/"
    },
    "id": "Q8wTygHSQI85",
    "outputId": "b7dbef1b-0cf9-4a59-88ee-568fd8211242"
   },
   "outputs": [
    {
     "name": "stdout",
     "output_type": "stream",
     "text": [
      "[[0.94178794 0.00211864 0.         0.         0.00190476 0.\n",
      "  0.0019084  0.         0.         0.         0.025     ]\n",
      " [0.         0.95762712 0.00401606 0.00189036 0.         0.\n",
      "  0.         0.         0.00208333 0.         0.016     ]\n",
      " [0.002079   0.00211864 0.91767068 0.00189036 0.00190476 0.002\n",
      "  0.         0.00574713 0.00625    0.         0.03      ]\n",
      " [0.002079   0.00423729 0.01807229 0.93194707 0.         0.01\n",
      "  0.         0.00191571 0.01041667 0.00426439 0.011     ]\n",
      " [0.         0.00211864 0.         0.         0.92380952 0.\n",
      "  0.         0.         0.         0.01066098 0.034     ]\n",
      " [0.01039501 0.00211864 0.00200803 0.02646503 0.         0.888\n",
      "  0.00572519 0.00383142 0.00416667 0.0021322  0.027     ]\n",
      " [0.         0.         0.00200803 0.         0.00190476 0.002\n",
      "  0.95801527 0.         0.00208333 0.         0.018     ]\n",
      " [0.         0.00635593 0.         0.         0.00761905 0.\n",
      "  0.         0.94444444 0.         0.02558635 0.01      ]\n",
      " [0.         0.00211864 0.00401606 0.00756144 0.00190476 0.01\n",
      "  0.0019084  0.00383142 0.86041667 0.00426439 0.049     ]\n",
      " [0.002079   0.00423729 0.         0.00189036 0.0152381  0.\n",
      "  0.         0.01724138 0.00833333 0.91684435 0.014     ]\n",
      " [0.05613306 0.05932203 0.09638554 0.02079395 0.07619048 0.096\n",
      "  0.04389313 0.00766284 0.025      0.04477612 0.738     ]]\n"
     ]
    }
   ],
   "source": [
    "# TODO 12:  Print a confusion matrix\n",
    "from sklearn.metrics import confusion_matrix\n",
    "C = confusion_matrix(yts,yhat_ts)\n",
    "Csum = np.sum(C,1)\n",
    "C = C / Csum[None,:]\n",
    "print(C)"
   ]
  },
  {
   "cell_type": "code",
   "execution_count": 17,
   "metadata": {
    "colab": {
     "base_uri": "https://localhost:8080/"
    },
    "id": "zMIOOYRiU6s8",
    "outputId": "23177670-c652-490a-f884-41568b3db2ac"
   },
   "outputs": [
    {
     "name": "stdout",
     "output_type": "stream",
     "text": [
      "Fraction of digits are mislabeled as letters = 0.039\n",
      "Fraction of letters are mislabeled as digits = 0.043666666666666666\n"
     ]
    }
   ],
   "source": [
    "# TODO 13:  Print above two error rates\n",
    "f1 = np.mean((yhat_ts == 10) & (yts < 10))\n",
    "f2 = np.mean((yhat_ts < 10) & (yts == 10))\n",
    "print('Fraction of digits are mislabeled as letters = {}'.format(f1))\n",
    "print('Fraction of letters are mislabeled as digits = {}'.format(f2))"
   ]
  },
  {
   "cell_type": "code",
   "execution_count": 18,
   "metadata": {
    "colab": {
     "base_uri": "https://localhost:8080/"
    },
    "id": "f2EgeNK4ZiqW",
    "outputId": "39f50c01-d278-4eb9-d68d-6e063bfb5546"
   },
   "outputs": [
    {
     "name": "stdout",
     "output_type": "stream",
     "text": [
      "[LibSVM]C = 0.1, gamma = 0.001, Accuracy = 0.51\n",
      "[LibSVM]C = 0.1, gamma = 0.01, Accuracy = 0.803\n",
      "[LibSVM]C = 0.1, gamma = 0.1, Accuracy = 0.22233333333333333\n",
      "[LibSVM]C = 1, gamma = 0.001, Accuracy = 0.805\n",
      "[LibSVM]C = 1, gamma = 0.01, Accuracy = 0.8843333333333333\n",
      "[LibSVM]C = 1, gamma = 0.1, Accuracy = 0.3855\n",
      "[LibSVM]C = 10, gamma = 0.001, Accuracy = 0.845\n",
      "[LibSVM]C = 10, gamma = 0.01, Accuracy = 0.9001666666666667\n",
      "[LibSVM]C = 10, gamma = 0.1, Accuracy = 0.43133333333333335\n",
      "[[0.51       0.803      0.22233333]\n",
      " [0.805      0.88433333 0.3855    ]\n",
      " [0.845      0.90016667 0.43133333]]\n",
      "Optimal C = 10, gamma = 0.01, Accuracy = 0.9001666666666667\n"
     ]
    }
   ],
   "source": [
    "C_test = [0.1,1,10]\n",
    "gam_test = [0.001,0.01,0.1]\n",
    "\n",
    "nC = len(C_test)\n",
    "ngam = len(gam_test)\n",
    "acc = np.zeros((nC,ngam))\n",
    "\n",
    "# TODO 14:  Measure and print the accuracy for each C and gamma value.  Store the results in acc\n",
    "for i,c in enumerate(C_test):\n",
    "  for j,gam in enumerate(gam_test):\n",
    "    svc = svm.SVC(probability=False,  kernel=\"rbf\", C=c, gamma=gam,verbose=10)\n",
    "    svc.fit(Xtr1,ytr)\n",
    "    yhat = svc.predict(Xts1)\n",
    "    acc[i,j] = np.mean(yhat == yts)\n",
    "    print('C = {}, gamma = {}, Accuracy = {}'.format(c,gam,acc[i,j]))\n",
    "\n",
    "# TODO 15:  Print the accuracy matrix\n",
    "print(acc)\n",
    "# TODO 16:  Print the maximum accuracy and the corresponding best C and gamma\n",
    "imax = np.argmax(acc)\n",
    "i, j = np.unravel_index(imax, (nC,ngam))\n",
    "acc_max = np.max(acc)\n",
    "print('Optimal C = {}, gamma = {}, Accuracy = {}'.format(C_test[i],gam_test[j],acc_max))"
   ]
  }
 ],
 "metadata": {
  "colab": {
   "collapsed_sections": [],
   "name": "Lab8.ipynb",
   "provenance": []
  },
  "kernelspec": {
   "display_name": "Python 3",
   "language": "python",
   "name": "python3"
  },
  "language_info": {
   "codemirror_mode": {
    "name": "ipython",
    "version": 3
   },
   "file_extension": ".py",
   "mimetype": "text/x-python",
   "name": "python",
   "nbconvert_exporter": "python",
   "pygments_lexer": "ipython3",
   "version": "3.8.5"
  }
 },
 "nbformat": 4,
 "nbformat_minor": 1
}
